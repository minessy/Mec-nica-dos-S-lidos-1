{
  "nbformat": 4,
  "nbformat_minor": 0,
  "metadata": {
    "colab": {
      "name": "trabalho prático 1.ipynb",
      "provenance": [],
      "collapsed_sections": [],
      "include_colab_link": true
    },
    "kernelspec": {
      "name": "python3",
      "display_name": "Python 3"
    },
    "language_info": {
      "name": "python"
    }
  },
  "cells": [
    {
      "cell_type": "markdown",
      "metadata": {
        "id": "view-in-github",
        "colab_type": "text"
      },
      "source": [
        "<a href=\"https://colab.research.google.com/github/minessy/Mec-nica-dos-S-lidos-1/blob/main/trabalho_pr%C3%A1tico_1.ipynb\" target=\"_parent\"><img src=\"https://colab.research.google.com/assets/colab-badge.svg\" alt=\"Open In Colab\"/></a>"
      ]
    },
    {
      "cell_type": "markdown",
      "source": [
        "a)"
      ],
      "metadata": {
        "id": "zT1M4QBY5jRV"
      }
    },
    {
      "cell_type": "code",
      "execution_count": null,
      "metadata": {
        "colab": {
          "base_uri": "https://localhost:8080/"
        },
        "id": "Csp0v0Gz0v3_",
        "outputId": "1d2e3308-1500-480c-ddf0-85345dfcb965"
      },
      "outputs": [
        {
          "output_type": "stream",
          "name": "stdout",
          "text": [
            "n1 =  [ 0.373239  0.653484  0.658522]\n",
            "n2 =  [-0.653484 -0.318654  0.686599]\n",
            "n3 =  [ 0.658522 -0.686599  0.308108]\n"
          ]
        }
      ],
      "source": [
        "import numpy as np\n",
        "np.set_printoptions(formatter={'float': '{: 0.6f}'.format})\n",
        "\n",
        "def versor(v1,v2,v3): return np.array([v1,v2,v3])\n",
        "\n",
        "n1 = versor(0.373239,0.653484,0.658522)\n",
        "n2 = versor(-0.653484,-0.318654,0.686599)\n",
        "n3 = versor(0.658522,-0.686599,0.308108)\n",
        "\n",
        "print('n1 = ',n1)\n",
        "print('n2 = ',n2)\n",
        "print('n3 = ',n3)"
      ]
    },
    {
      "cell_type": "markdown",
      "source": [
        "Ortonormalidade"
      ],
      "metadata": {
        "id": "ua9W6be91k-U"
      }
    },
    {
      "cell_type": "code",
      "source": [
        "print('i = j: ')\n",
        "print(f'np.dot(n1,n1) = {np.dot(n1,n1):.1f}')\n",
        "print(f'np.dot(n2,n2) = {np.dot(n2,n2):.1f}')\n",
        "print(f'np.dot(n3,n3) = {np.dot(n3,n3):.1f}')"
      ],
      "metadata": {
        "colab": {
          "base_uri": "https://localhost:8080/"
        },
        "id": "WZ0X7aEY1s2_",
        "outputId": "38b9127c-b5d7-4c82-aa0c-027317024051"
      },
      "execution_count": null,
      "outputs": [
        {
          "output_type": "stream",
          "name": "stdout",
          "text": [
            "i = j: \n",
            "np.dot(n1,n1) = 1.0\n",
            "np.dot(n2,n2) = 1.0\n",
            "np.dot(n3,n3) = 1.0\n"
          ]
        }
      ]
    },
    {
      "cell_type": "markdown",
      "source": [
        "Ortogonalidade"
      ],
      "metadata": {
        "id": "00CRnYqF1zId"
      }
    },
    {
      "cell_type": "code",
      "source": [
        "print('i ne j: ')\n",
        "print(f'np.dot(n2,n3) = {np.dot(n2,n3):.1f}')\n",
        "print(f'np.dot(n1,n3) = {np.dot(n1,n3):.1f}')\n",
        "print(f'np.dot(n1,n2) = {np.dot(n1,n2):.1f}')"
      ],
      "metadata": {
        "colab": {
          "base_uri": "https://localhost:8080/"
        },
        "id": "zHfW8W-C11Ys",
        "outputId": "e2458b52-9b27-4914-e714-a4439357c0c3"
      },
      "execution_count": null,
      "outputs": [
        {
          "output_type": "stream",
          "name": "stdout",
          "text": [
            "i ne j: \n",
            "np.dot(n2,n3) = 0.0\n",
            "np.dot(n1,n3) = 0.0\n",
            "np.dot(n1,n2) = -0.0\n"
          ]
        }
      ]
    },
    {
      "cell_type": "markdown",
      "source": [
        "como os vetores são ortogonais e ortonormados dá certo"
      ],
      "metadata": {
        "id": "IA3h-KlsEgLm"
      }
    },
    {
      "cell_type": "markdown",
      "source": [
        "Aij"
      ],
      "metadata": {
        "id": "eTvQGye_2GVO"
      }
    },
    {
      "cell_type": "code",
      "source": [
        "np.set_printoptions(formatter={'float': '{: 0.6f}'.format})\n",
        "\n",
        "def trans01(i0i1,i0j1,i0k1,j0i1,j0j1,j0k1,k0i1,k0j1,k0k1):\n",
        "    linha0 = [i0i1,j0i1,k0i1]\n",
        "    linha1 = [i0j1,j0j1,k0j1]\n",
        "    linha2 = [i0k1,j0k1,k0k1]\n",
        "    return np.array([linha0,linha1,linha2])\n",
        "\n",
        "Aij = trans01(n1[0],n2[0],n3[0],n1[1],n2[1],n3[1],n1[2],n2[2],n3[2])\n",
        "print(f'\\n Matriz de mudanca de base de S0 para S1: \\n Aij = \\n {Aij}')"
      ],
      "metadata": {
        "colab": {
          "base_uri": "https://localhost:8080/"
        },
        "id": "bt4d5FyV2d2P",
        "outputId": "0058c940-5375-4531-8fb8-c13f29a6b8af"
      },
      "execution_count": null,
      "outputs": [
        {
          "output_type": "stream",
          "name": "stdout",
          "text": [
            "\n",
            " Matriz de mudanca de base de S0 para S1: \n",
            " Aij = \n",
            " [[ 0.373239  0.653484  0.658522]\n",
            " [-0.653484 -0.318654  0.686599]\n",
            " [ 0.658522 -0.686599  0.308108]]\n"
          ]
        }
      ]
    },
    {
      "cell_type": "markdown",
      "source": [
        "verificação do Aij"
      ],
      "metadata": {
        "id": "hU-hErp12lYu"
      }
    },
    {
      "cell_type": "code",
      "source": [
        "print('[Aij^T][Aij] = [I] = \\n',np.dot(np.transpose(Aij),Aij))\n",
        "print('\\n det([Aij]) = ','{: 0.1f}'.format(np.linalg.det(Aij)))"
      ],
      "metadata": {
        "colab": {
          "base_uri": "https://localhost:8080/"
        },
        "id": "4o5XJUkh2p7w",
        "outputId": "4b08e45c-592c-4eb0-89cf-5768b665da85"
      },
      "execution_count": null,
      "outputs": [
        {
          "output_type": "stream",
          "name": "stdout",
          "text": [
            "[Aij^T][Aij] = [I] = \n",
            " [[ 1.000000  0.000000  0.000001]\n",
            " [ 0.000000  1.000000 -0.000001]\n",
            " [ 0.000001 -0.000001  1.000000]]\n",
            "\n",
            " det([Aij]) =   1.0\n"
          ]
        }
      ]
    },
    {
      "cell_type": "markdown",
      "source": [
        "sigma'"
      ],
      "metadata": {
        "id": "8ryt1FY72uqp"
      }
    },
    {
      "cell_type": "code",
      "source": [
        "np.set_printoptions(formatter={'float': '{: 0.5f}'.format})\n",
        "\n",
        "S0tn1 = np.array([[16.413],[1.575],[0]])\n",
        "S0tn2 = np.array([[-27.193],[-1.650],[0]])\n",
        "S0tn3 = np.array([[25.518],[0.310],[0]])\n",
        "print('Componentes dos vetores tensao no referencial S0 :')\n",
        "print('t(n1).S0 | t(n2).S0 | t(n3).S0')\n",
        "for i in range(0,3):\n",
        "    print(S0tn1[i],' ',S0tn2[i],' ',S0tn2[i])"
      ],
      "metadata": {
        "colab": {
          "base_uri": "https://localhost:8080/"
        },
        "id": "Ecafzlvu2wVr",
        "outputId": "7d606077-962f-4afc-e705-de8e366e5c8c"
      },
      "execution_count": null,
      "outputs": [
        {
          "output_type": "stream",
          "name": "stdout",
          "text": [
            "Componentes dos vetores tensao no referencial S0 :\n",
            "t(n1).S0 | t(n2).S0 | t(n3).S0\n",
            "[ 16.41300]   [-27.19300]   [-27.19300]\n",
            "[ 1.57500]   [-1.65000]   [-1.65000]\n",
            "[ 0.00000]   [ 0.00000]   [ 0.00000]\n"
          ]
        }
      ]
    },
    {
      "cell_type": "code",
      "source": [
        "np.set_printoptions(formatter={'float': '{: 0.5f}'.format})\n",
        "S1tn1 = np.dot(Aij,S0tn1)\n",
        "S1tn2 = np.dot(Aij,S0tn2)\n",
        "S1tn3 = np.dot(Aij,S0tn3)\n",
        "\n",
        "print('Componentes dos vetores tensao no referencial S1 :')\n",
        "print('tn1.S1 | tn2.S1 | tn3.S1')\n",
        "for i in range(0,3):\n",
        "    print(S1tn1[i],' ',S1tn2[i],' ',S1tn2[i])"
      ],
      "metadata": {
        "colab": {
          "base_uri": "https://localhost:8080/"
        },
        "id": "3dgIz_Hb5E5i",
        "outputId": "c471d20c-a6d1-4235-f94f-3985ff8edd6e"
      },
      "execution_count": null,
      "outputs": [
        {
          "output_type": "stream",
          "name": "stdout",
          "text": [
            "Componentes dos vetores tensao no referencial S1 :\n",
            "tn1.S1 | tn2.S1 | tn3.S1\n",
            "[ 7.15521]   [-11.22774]   [-11.22774]\n",
            "[-11.22751]   [ 18.29597]   [ 18.29597]\n",
            "[ 9.72693]   [-16.77430]   [-16.77430]\n"
          ]
        }
      ]
    },
    {
      "cell_type": "code",
      "source": [
        "sigma1 = np.hstack((S1tn1,S1tn2,S1tn3))\n",
        "print('sigma1 = \\n', sigma1)"
      ],
      "metadata": {
        "colab": {
          "base_uri": "https://localhost:8080/"
        },
        "id": "oWR5FB985Yu9",
        "outputId": "06b47b52-5977-4536-806e-33404fbebcbb"
      },
      "execution_count": null,
      "outputs": [
        {
          "output_type": "stream",
          "name": "stdout",
          "text": [
            "sigma1 = \n",
            " [[ 7.15521 -11.22774  9.72689]\n",
            " [-11.22751  18.29597 -16.77439]\n",
            " [ 9.72693 -16.77430  16.59132]]\n"
          ]
        }
      ]
    },
    {
      "cell_type": "markdown",
      "source": [
        "B)"
      ],
      "metadata": {
        "id": "SG3pB8-Q5hHj"
      }
    },
    {
      "cell_type": "code",
      "source": [
        "Aji = np.transpose(Aij)\n",
        "sigma0 = np.dot(Aji, np.dot(sigma1, np.transpose(Aji)))\n",
        "print('\\nsigma0 = \\n', sigma0)\n"
      ],
      "metadata": {
        "colab": {
          "base_uri": "https://localhost:8080/"
        },
        "id": "OgMEwtW25m8a",
        "outputId": "0fcc0ce1-a98c-43ef-db3f-83501ebcd005"
      },
      "execution_count": null,
      "outputs": [
        {
          "output_type": "stream",
          "name": "stdout",
          "text": [
            "\n",
            "sigma0 = \n",
            " [[ 40.70032  1.87016 -0.00007]\n",
            " [ 1.87026  1.34217 -0.00020]\n",
            " [ 0.00002  0.00000  0.00000]]\n"
          ]
        }
      ]
    },
    {
      "cell_type": "markdown",
      "source": [
        "c) depois verificamos este código com mais cuidado"
      ],
      "metadata": {
        "id": "8R9Bpwff7XXo"
      }
    },
    {
      "cell_type": "code",
      "source": [
        "from sympy.solvers import solve\n",
        "from sympy import symbols\n",
        "\n",
        "\n",
        "d1,d2,d3 = symbols('d1 d2 d3')\n",
        "\n",
        "def eq1(d1,d2,d3,vp): return (sigma0[0,0] - vp)*d1 + sigma0[0,1]*d2 + sigma0[0,2]*d3\n",
        "def eq2(d1,d2,d3,vp): return sigma0[1,0]*d1 + (sigma0[1,1] - vp)*d2 + sigma0[1,2]*d3\n",
        "def eq3(d1,d2,d3,vp): return sigma0[2,0]*d1 + sigma0[2,1]*d2 + (sigma0[2,2] - vp)*d3\n",
        "def eq4(d1,d2,d3): return d1**2 + d2**2 + d3**2 - 1\n",
        "\n",
        "def versor(e1,e2,e3): return np.array([e1,e2,e3])\n",
        "\n",
        "\n",
        "print('\\n Calculo dos invariantes pela matriz das tensões  : ............................')\n",
        "\n",
        "I1 = np.trace(sigma0)\n",
        "print('1º Invariante, I1:', '{:.6f}'.format(I1))\n",
        "\n",
        "I2 = 0.5*(np.trace(sigma0)**2 -np.trace(np.dot(sigma0,sigma0)))\n",
        "print('2º Invariante, I2 :', '{:.6f}'.format(I2))\n",
        "\n",
        "I3 = np.linalg.det(sigma0)\n",
        "print('3º Invariante, I3 :', '{:.6f}'.format(I3))\n",
        "\n",
        "print('\\n Resolucao Simbolica - Sympy : ............................')\n",
        "x = symbols('x')\n",
        "def eqcar(x): return x**3 - I1*x**2 + I2*x - I3\n",
        "print('\\n Equacao carateristica:')\n",
        "print(eqcar(x),' = 0')\n",
        "valproprios = solve(eqcar(x), x, dict=True)\n",
        "print('\\n sol : ')\n",
        "print(valproprios)\n",
        "print('\\n Resolucao Numerica - Numpy : ............................')\n",
        "valpropriosN = np.roots([1,-I1,I2,-I3])\n",
        "print('\\n Roots = ',-np.sort(-valpropriosN))\n",
        "\n",
        "print('\\n Resolucao Analítica - Formula recursiva Poly3: ..........')\n",
        "print('\\n p(x) = x**3 + a x**2 + b*c + c = 0')\n",
        "def frPoly3(a,b,c):\n",
        "    p = b-a**2/3\n",
        "    q = (2*a**3)/27 - (a*b)/3 + c\n",
        "    DeltaPoly3 = q**2/4 + p**3/27\n",
        "    print('\\nDelta(Poly3) :', DeltaPoly3)\n",
        "    if DeltaPoly3 < 0:\n",
        "        print('existe três soluções reais')\n",
        "        x1 = (2/np.sqrt(3))*np.sqrt(-p)*np.sin((1/3)*np.arcsin((3*np.sqrt(3)*q)/(2*np.sqrt(-p)**3))) - a/3\n",
        "        x2 = -(2/np.sqrt(3))*np.sqrt(-p)*np.sin((1/3)*np.arcsin((3*np.sqrt(3)*q)/(2*np.sqrt(-p)**3)) + np.pi/3) - a/3\n",
        "        x3 = (2/np.sqrt(3))*np.sqrt(-p)*np.cos((1/3)*np.arcsin((3*np.sqrt(3)*q)/(2*np.sqrt(-p)**3)) + np.pi/6) - a/3\n",
        "    elif DeltaPoly3 == 0:\n",
        "        print('existe três raízes repetidas')\n",
        "        x1 = -2*(q/2)**(1/3) - a/3\n",
        "        x2 = (q/2)**(1/3) - a/3\n",
        "        x3 = x2\n",
        "    else:\n",
        "        print('existe apenas uma única solução real')\n",
        "        x1 = (-q/2 + np.sqrt(DeltaPoly3))**(1/3) + (-q/2 - np.sqrt(DeltaPoly3))**(1/3) - a/3\n",
        "        x2 = x1; x3 = x1\n",
        "\n",
        "    return  np.array([x1,x2,x3])\n",
        "\n",
        "valpropfrPoly3 = frPoly3(-I1,I2,-I3)\n",
        "print('\\n Formula recursiva Poly3 = ',-np.sort(-valpropfrPoly3))"
      ],
      "metadata": {
        "colab": {
          "base_uri": "https://localhost:8080/"
        },
        "id": "qYkn4ZFd1Pe7",
        "outputId": "58d5de76-30df-43e6-b68d-848044119345"
      },
      "execution_count": null,
      "outputs": [
        {
          "output_type": "stream",
          "name": "stdout",
          "text": [
            "\n",
            " Calculo dos invariantes pela matriz das tensões  : ............................\n",
            "1º Invariante, I1: 42.042495\n",
            "2º Invariante, I2 : 51.129129\n",
            "3º Invariante, I3 : -0.000000\n",
            "\n",
            " Resolucao Simbolica - Sympy : ............................\n",
            "\n",
            " Equacao carateristica:\n",
            "x**3 - 42.0424952957483*x**2 + 51.1291290243797*x + 5.642358688587e-14  = 0\n",
            "\n",
            " sol : \n",
            "[{x: -1.10355071487656e-15 - 0.e-35*I}, {x: 1.25350312178128 - 0.e-21*I}, {x: 40.788992173967 - 0.e-21*I}]\n",
            "\n",
            " Resolucao Numerica - Numpy : ............................\n",
            "\n",
            " Roots =  [ 40.78899  1.25350 -0.00000]\n",
            "\n",
            " Resolucao Analítica - Formula recursiva Poly3: ..........\n",
            "\n",
            " p(x) = x**3 + a x**2 + b*c + c = 0\n",
            "\n",
            "Delta(Poly3) : -37834.436023730785\n",
            "existe três soluções reais\n",
            "\n",
            " Formula recursiva Poly3 =  [ 40.78899  1.25350 -0.00000]\n"
          ]
        }
      ]
    },
    {
      "cell_type": "markdown",
      "source": [
        "d)Invariantes"
      ],
      "metadata": {
        "id": "-K_W78ls7ZLe"
      }
    },
    {
      "cell_type": "code",
      "source": [
        "I1 = np.trace(sigma0)\n",
        "print('1º Invariante, I1 :', '{:.6f}'.format(I1))\n",
        "\n",
        "I2 = 0.5*(np.trace(sigma0)**2 -np.trace(np.dot(sigma0,sigma0)))\n",
        "print('2º Invariante, I2 :', '{:.6f}'.format(I2))\n",
        "\n",
        "I3 = np.linalg.det(sigma0)\n",
        "print('2º Invariante, I3 :', '{:.6f}'.format(I3))\n"
      ],
      "metadata": {
        "colab": {
          "base_uri": "https://localhost:8080/"
        },
        "id": "OmM-Bovo7nVS",
        "outputId": "ae2b8d5d-457b-4a37-d20e-754c86246fe3"
      },
      "execution_count": null,
      "outputs": [
        {
          "output_type": "stream",
          "name": "stdout",
          "text": [
            "1º Invariante, I1 : 42.042495\n",
            "2º Invariante, I2 : 51.129129\n",
            "2º Invariante, I3 : -0.000000\n"
          ]
        }
      ]
    },
    {
      "cell_type": "markdown",
      "source": [
        "Como temos a regra de que I1>I2>I3:"
      ],
      "metadata": {
        "id": "vRKyKRyd9rdP"
      }
    },
    {
      "cell_type": "code",
      "source": [
        "sigmaI =np.array([[I2,0,0],[0,I1,0],[0,0,I3]])\n",
        "print('sigmaI = \\n', sigmaI)"
      ],
      "metadata": {
        "colab": {
          "base_uri": "https://localhost:8080/"
        },
        "id": "BCO1GSMu9dPb",
        "outputId": "e2d46b27-9c51-4974-dd5b-dbf28edab033"
      },
      "execution_count": null,
      "outputs": [
        {
          "output_type": "stream",
          "name": "stdout",
          "text": [
            "sigmaI = \n",
            " [[ 51.12913  0.00000  0.00000]\n",
            " [ 0.00000  42.04250  0.00000]\n",
            " [ 0.00000  0.00000 -0.00000]]\n"
          ]
        }
      ]
    },
    {
      "cell_type": "markdown",
      "source": [
        "e)"
      ],
      "metadata": {
        "id": "vTIWvnN6Mb4i"
      }
    },
    {
      "cell_type": "code",
      "source": [
        "import numpy as np\n",
        "sigma0 = np.dot(Aji, np.dot(sigma1, np.transpose(Aji)))\n",
        "print('\\nsigma0 = \\n', sigma0)\n"
      ],
      "metadata": {
        "colab": {
          "base_uri": "https://localhost:8080/"
        },
        "id": "yHcffBpcMc0l",
        "outputId": "2390cb35-7ee9-4245-ca60-ca74197b8d99"
      },
      "execution_count": null,
      "outputs": [
        {
          "output_type": "stream",
          "name": "stdout",
          "text": [
            "\n",
            "sigma0 = \n",
            " [[ 40.70032  1.87016 -0.00007]\n",
            " [ 1.87026  1.34217 -0.00020]\n",
            " [ 0.00002  0.00000  0.00000]]\n"
          ]
        }
      ]
    },
    {
      "cell_type": "code",
      "source": [
        "import numpy as np\n",
        "np.set_printoptions(formatter={'float': '{: 0.6f}'.format})\n",
        "\n",
        "def versor(v1,v2,v3): return np.array([v1,v2,v3])\n",
        "\n",
        "v = versor(1/np.sqrt(2),0.653484,1/np.sqrt(2))\n",
        "\n",
        "print('v = ', v)\n"
      ],
      "metadata": {
        "colab": {
          "base_uri": "https://localhost:8080/"
        },
        "id": "Q9XUOmIbNBXl",
        "outputId": "e7eaa060-6044-417a-8179-952bcccd65ac"
      },
      "execution_count": null,
      "outputs": [
        {
          "output_type": "stream",
          "name": "stdout",
          "text": [
            "v =  [ 0.707107  0.653484  0.707107]\n"
          ]
        }
      ]
    },
    {
      "cell_type": "code",
      "source": [
        "t=np.dot(v,sigma0)\n",
        "\n",
        "print('t=', t)"
      ],
      "metadata": {
        "colab": {
          "base_uri": "https://localhost:8080/"
        },
        "id": "5KkMGtnjNfI3",
        "outputId": "0871d9de-4a24-4779-ce8d-30f29886eb62"
      },
      "execution_count": null,
      "outputs": [
        {
          "output_type": "stream",
          "name": "stdout",
          "text": [
            "t= [ 30.001675  2.199489 -0.000178]\n"
          ]
        }
      ]
    },
    {
      "cell_type": "code",
      "source": [
        "sigma_nor= np.dot(v,np.transpose(t))\n",
        "\n",
        "print('sigma_nor (MPa) =',sigma_nor)"
      ],
      "metadata": {
        "colab": {
          "base_uri": "https://localhost:8080/"
        },
        "id": "uHkzzK3fOB1v",
        "outputId": "cfb03d0e-f330-4e74-b1dc-de8c73b3f657"
      },
      "execution_count": null,
      "outputs": [
        {
          "output_type": "stream",
          "name": "stdout",
          "text": [
            "sigma_nor (MPa) = 22.65159244889814\n"
          ]
        }
      ]
    },
    {
      "cell_type": "code",
      "source": [
        "sigma_tan=np.sqrt(np.dot(t,t)+(sigma_nor)**2)\n",
        "\n",
        "print('sigma_tan (Mpa) =', sigma_tan)"
      ],
      "metadata": {
        "colab": {
          "base_uri": "https://localhost:8080/"
        },
        "id": "GmPgdufaOaTm",
        "outputId": "d07fa289-1b61-4e7a-ba2a-a669c35c6d6e"
      },
      "execution_count": null,
      "outputs": [
        {
          "output_type": "stream",
          "name": "stdout",
          "text": [
            "sigma_tan (Mpa) = 37.65677727760237\n"
          ]
        }
      ]
    }
  ]
}